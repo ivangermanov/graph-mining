{
 "cells": [
  {
   "cell_type": "code",
   "execution_count": 1,
   "metadata": {
    "colab": {
     "base_uri": "https://localhost:8080/"
    },
    "id": "UYJMSht4JEHq",
    "outputId": "63ba67ec-de14-40af-b53f-7d8b1163c78a"
   },
   "outputs": [
    {
     "name": "stdout",
     "output_type": "stream",
     "text": [
      "Requirement already satisfied: stellargraph in c:\\users\\ivang\\anaconda3\\lib\\site-packages (1.2.1)\n",
      "Requirement already satisfied: pandas>=0.24 in c:\\users\\ivang\\anaconda3\\lib\\site-packages (from stellargraph) (1.2.4)\n",
      "Requirement already satisfied: scipy>=1.1.0 in c:\\users\\ivang\\anaconda3\\lib\\site-packages (from stellargraph) (1.6.2)\n",
      "Requirement already satisfied: scikit-learn>=0.20 in c:\\users\\ivang\\anaconda3\\lib\\site-packages (from stellargraph) (0.24.1)\n",
      "Requirement already satisfied: numpy>=1.14 in c:\\users\\ivang\\anaconda3\\lib\\site-packages (from stellargraph) (1.19.5)\n",
      "Requirement already satisfied: networkx>=2.2 in c:\\users\\ivang\\anaconda3\\lib\\site-packages (from stellargraph) (2.5)\n",
      "Requirement already satisfied: matplotlib>=2.2 in c:\\users\\ivang\\anaconda3\\lib\\site-packages (from stellargraph) (3.3.4)\n",
      "Requirement already satisfied: gensim>=3.4.0 in c:\\users\\ivang\\anaconda3\\lib\\site-packages (from stellargraph) (4.1.2)\n",
      "Requirement already satisfied: tensorflow>=2.1.0 in c:\\users\\ivang\\anaconda3\\lib\\site-packages (from stellargraph) (2.6.0)\n",
      "Requirement already satisfied: smart-open>=1.8.1 in c:\\users\\ivang\\anaconda3\\lib\\site-packages (from gensim>=3.4.0->stellargraph) (5.2.1)\n",
      "Requirement already satisfied: Cython==0.29.23 in c:\\users\\ivang\\anaconda3\\lib\\site-packages (from gensim>=3.4.0->stellargraph) (0.29.23)\n",
      "Requirement already satisfied: python-dateutil>=2.1 in c:\\users\\ivang\\anaconda3\\lib\\site-packages (from matplotlib>=2.2->stellargraph) (2.8.1)\n",
      "Requirement already satisfied: pillow>=6.2.0 in c:\\users\\ivang\\anaconda3\\lib\\site-packages (from matplotlib>=2.2->stellargraph) (8.2.0)\n",
      "Requirement already satisfied: kiwisolver>=1.0.1 in c:\\users\\ivang\\anaconda3\\lib\\site-packages (from matplotlib>=2.2->stellargraph) (1.3.1)\n",
      "Requirement already satisfied: pyparsing!=2.0.4,!=2.1.2,!=2.1.6,>=2.0.3 in c:\\users\\ivang\\anaconda3\\lib\\site-packages (from matplotlib>=2.2->stellargraph) (2.4.7)\n",
      "Requirement already satisfied: cycler>=0.10 in c:\\users\\ivang\\anaconda3\\lib\\site-packages (from matplotlib>=2.2->stellargraph) (0.10.0)\n",
      "Requirement already satisfied: six in c:\\users\\ivang\\anaconda3\\lib\\site-packages (from cycler>=0.10->matplotlib>=2.2->stellargraph) (1.15.0)\n",
      "Requirement already satisfied: decorator>=4.3.0 in c:\\users\\ivang\\anaconda3\\lib\\site-packages (from networkx>=2.2->stellargraph) (5.0.6)\n",
      "Requirement already satisfied: pytz>=2017.3 in c:\\users\\ivang\\anaconda3\\lib\\site-packages (from pandas>=0.24->stellargraph) (2021.1)\n",
      "Requirement already satisfied: joblib>=0.11 in c:\\users\\ivang\\anaconda3\\lib\\site-packages (from scikit-learn>=0.20->stellargraph) (1.0.1)\n",
      "Requirement already satisfied: threadpoolctl>=2.0.0 in c:\\users\\ivang\\anaconda3\\lib\\site-packages (from scikit-learn>=0.20->stellargraph) (2.1.0)\n",
      "Requirement already satisfied: tensorboard~=2.6 in c:\\users\\ivang\\anaconda3\\lib\\site-packages (from tensorflow>=2.1.0->stellargraph) (2.6.0)\n",
      "Requirement already satisfied: keras~=2.6 in c:\\users\\ivang\\anaconda3\\lib\\site-packages (from tensorflow>=2.1.0->stellargraph) (2.6.0)\n",
      "Requirement already satisfied: tensorflow-estimator~=2.6 in c:\\users\\ivang\\anaconda3\\lib\\site-packages (from tensorflow>=2.1.0->stellargraph) (2.6.0)\n",
      "Requirement already satisfied: google-pasta~=0.2 in c:\\users\\ivang\\anaconda3\\lib\\site-packages (from tensorflow>=2.1.0->stellargraph) (0.2.0)\n",
      "Requirement already satisfied: clang~=5.0 in c:\\users\\ivang\\anaconda3\\lib\\site-packages (from tensorflow>=2.1.0->stellargraph) (5.0)\n",
      "Requirement already satisfied: opt-einsum~=3.3.0 in c:\\users\\ivang\\anaconda3\\lib\\site-packages (from tensorflow>=2.1.0->stellargraph) (3.3.0)\n",
      "Requirement already satisfied: wheel~=0.35 in c:\\users\\ivang\\anaconda3\\lib\\site-packages (from tensorflow>=2.1.0->stellargraph) (0.36.2)\n",
      "Requirement already satisfied: flatbuffers~=1.12.0 in c:\\users\\ivang\\anaconda3\\lib\\site-packages (from tensorflow>=2.1.0->stellargraph) (1.12)\n",
      "Requirement already satisfied: absl-py~=0.10 in c:\\users\\ivang\\anaconda3\\lib\\site-packages (from tensorflow>=2.1.0->stellargraph) (0.14.1)\n",
      "Requirement already satisfied: grpcio<2.0,>=1.37.0 in c:\\users\\ivang\\anaconda3\\lib\\site-packages (from tensorflow>=2.1.0->stellargraph) (1.41.0)\n",
      "Requirement already satisfied: h5py~=3.1.0 in c:\\users\\ivang\\anaconda3\\lib\\site-packages (from tensorflow>=2.1.0->stellargraph) (3.1.0)\n",
      "Requirement already satisfied: protobuf>=3.9.2 in c:\\users\\ivang\\anaconda3\\lib\\site-packages (from tensorflow>=2.1.0->stellargraph) (3.18.1)\n",
      "Requirement already satisfied: gast==0.4.0 in c:\\users\\ivang\\anaconda3\\lib\\site-packages (from tensorflow>=2.1.0->stellargraph) (0.4.0)\n",
      "Requirement already satisfied: termcolor~=1.1.0 in c:\\users\\ivang\\anaconda3\\lib\\site-packages (from tensorflow>=2.1.0->stellargraph) (1.1.0)\n",
      "Requirement already satisfied: typing-extensions~=3.7.4 in c:\\users\\ivang\\anaconda3\\lib\\site-packages (from tensorflow>=2.1.0->stellargraph) (3.7.4.3)\n",
      "Requirement already satisfied: wrapt~=1.12.1 in c:\\users\\ivang\\anaconda3\\lib\\site-packages (from tensorflow>=2.1.0->stellargraph) (1.12.1)\n",
      "Requirement already satisfied: keras-preprocessing~=1.1.2 in c:\\users\\ivang\\anaconda3\\lib\\site-packages (from tensorflow>=2.1.0->stellargraph) (1.1.2)\n",
      "Requirement already satisfied: astunparse~=1.6.3 in c:\\users\\ivang\\anaconda3\\lib\\site-packages (from tensorflow>=2.1.0->stellargraph) (1.6.3)\n",
      "Requirement already satisfied: tensorboard-data-server<0.7.0,>=0.6.0 in c:\\users\\ivang\\anaconda3\\lib\\site-packages (from tensorboard~=2.6->tensorflow>=2.1.0->stellargraph) (0.6.1)\n",
      "Requirement already satisfied: google-auth-oauthlib<0.5,>=0.4.1 in c:\\users\\ivang\\anaconda3\\lib\\site-packages (from tensorboard~=2.6->tensorflow>=2.1.0->stellargraph) (0.4.6)\n",
      "Requirement already satisfied: requests<3,>=2.21.0 in c:\\users\\ivang\\anaconda3\\lib\\site-packages (from tensorboard~=2.6->tensorflow>=2.1.0->stellargraph) (2.25.1)\n",
      "Requirement already satisfied: google-auth<2,>=1.6.3 in c:\\users\\ivang\\anaconda3\\lib\\site-packages (from tensorboard~=2.6->tensorflow>=2.1.0->stellargraph) (1.35.0)\n",
      "Requirement already satisfied: markdown>=2.6.8 in c:\\users\\ivang\\anaconda3\\lib\\site-packages (from tensorboard~=2.6->tensorflow>=2.1.0->stellargraph) (3.3.4)\n",
      "Requirement already satisfied: setuptools>=41.0.0 in c:\\users\\ivang\\anaconda3\\lib\\site-packages (from tensorboard~=2.6->tensorflow>=2.1.0->stellargraph) (52.0.0.post20210125)\n",
      "Requirement already satisfied: tensorboard-plugin-wit>=1.6.0 in c:\\users\\ivang\\anaconda3\\lib\\site-packages (from tensorboard~=2.6->tensorflow>=2.1.0->stellargraph) (1.8.0)\n",
      "Requirement already satisfied: werkzeug>=0.11.15 in c:\\users\\ivang\\anaconda3\\lib\\site-packages (from tensorboard~=2.6->tensorflow>=2.1.0->stellargraph) (1.0.1)\n",
      "Requirement already satisfied: pyasn1-modules>=0.2.1 in c:\\users\\ivang\\anaconda3\\lib\\site-packages (from google-auth<2,>=1.6.3->tensorboard~=2.6->tensorflow>=2.1.0->stellargraph) (0.2.8)\n",
      "Requirement already satisfied: cachetools<5.0,>=2.0.0 in c:\\users\\ivang\\anaconda3\\lib\\site-packages (from google-auth<2,>=1.6.3->tensorboard~=2.6->tensorflow>=2.1.0->stellargraph) (4.2.4)\n",
      "Requirement already satisfied: rsa<5,>=3.1.4 in c:\\users\\ivang\\anaconda3\\lib\\site-packages (from google-auth<2,>=1.6.3->tensorboard~=2.6->tensorflow>=2.1.0->stellargraph) (4.7.2)\n",
      "Requirement already satisfied: requests-oauthlib>=0.7.0 in c:\\users\\ivang\\anaconda3\\lib\\site-packages (from google-auth-oauthlib<0.5,>=0.4.1->tensorboard~=2.6->tensorflow>=2.1.0->stellargraph) (1.3.0)\n",
      "Requirement already satisfied: pyasn1<0.5.0,>=0.4.6 in c:\\users\\ivang\\anaconda3\\lib\\site-packages (from pyasn1-modules>=0.2.1->google-auth<2,>=1.6.3->tensorboard~=2.6->tensorflow>=2.1.0->stellargraph) (0.4.8)\n",
      "Requirement already satisfied: idna<3,>=2.5 in c:\\users\\ivang\\anaconda3\\lib\\site-packages (from requests<3,>=2.21.0->tensorboard~=2.6->tensorflow>=2.1.0->stellargraph) (2.10)\n",
      "Requirement already satisfied: certifi>=2017.4.17 in c:\\users\\ivang\\anaconda3\\lib\\site-packages (from requests<3,>=2.21.0->tensorboard~=2.6->tensorflow>=2.1.0->stellargraph) (2020.12.5)\n",
      "Requirement already satisfied: urllib3<1.27,>=1.21.1 in c:\\users\\ivang\\anaconda3\\lib\\site-packages (from requests<3,>=2.21.0->tensorboard~=2.6->tensorflow>=2.1.0->stellargraph) (1.26.4)\n",
      "Requirement already satisfied: chardet<5,>=3.0.2 in c:\\users\\ivang\\anaconda3\\lib\\site-packages (from requests<3,>=2.21.0->tensorboard~=2.6->tensorflow>=2.1.0->stellargraph) (4.0.0)\n",
      "Requirement already satisfied: oauthlib>=3.0.0 in c:\\users\\ivang\\anaconda3\\lib\\site-packages (from requests-oauthlib>=0.7.0->google-auth-oauthlib<0.5,>=0.4.1->tensorboard~=2.6->tensorflow>=2.1.0->stellargraph) (3.1.1)\n"
     ]
    }
   ],
   "source": [
    "!pip install stellargraph"
   ]
  },
  {
   "cell_type": "code",
   "execution_count": 2,
   "metadata": {
    "id": "HGxxPeJRHBOl"
   },
   "outputs": [],
   "source": [
    "import matplotlib.pyplot as plt\n",
    "\n",
    "from sklearn.manifold import TSNE\n",
    "from sklearn.model_selection import train_test_split\n",
    "from sklearn.linear_model import LogisticRegressionCV\n",
    "from sklearn.metrics import accuracy_score\n",
    "import stellargraph as sg\n",
    "import os\n",
    "import networkx as nx\n",
    "import numpy as np\n",
    "import pandas as pd\n",
    "\n",
    "from stellargraph.data import BiasedRandomWalk\n",
    "from stellargraph import StellarGraph\n",
    "from stellargraph import datasets\n",
    "from IPython.display import display, HTML\n",
    "\n",
    "%matplotlib inline"
   ]
  },
  {
   "cell_type": "code",
   "execution_count": 5,
   "metadata": {
    "id": "G_THLFtdHKkg"
   },
   "outputs": [],
   "source": [
    "graph = nx.read_gml('Desktop\\graph_node2vec2.gml')\n",
    "node_subjects = nx.get_node_attributes(graph,'genre')"
   ]
  },
  {
   "cell_type": "code",
   "execution_count": 6,
   "metadata": {
    "colab": {
     "base_uri": "https://localhost:8080/"
    },
    "id": "JPT1bUKMHKm5",
    "outputId": "ff4c8f20-16d1-46f8-eb42-3753c4ebdd5e"
   },
   "outputs": [
    {
     "name": "stdout",
     "output_type": "stream",
     "text": [
      "17777\n"
     ]
    }
   ],
   "source": [
    "counter =0\n",
    "list_of_ids =[]\n",
    "for key, value in node_subjects.items():\n",
    "    if len(value) != 0:\n",
    "        list_of_ids.append(counter)\n",
    "    counter +=1\n",
    "print(len(list_of_ids))"
   ]
  },
  {
   "cell_type": "code",
   "execution_count": 7,
   "metadata": {
    "colab": {
     "base_uri": "https://localhost:8080/"
    },
    "id": "re-MUGtqHKpt",
    "outputId": "4c90fd57-09a5-4baa-9091-a2089e92a32b"
   },
   "outputs": [
    {
     "name": "stdout",
     "output_type": "stream",
     "text": [
      "0        blues\n",
      "1        blues\n",
      "2          pop\n",
      "3          pop\n",
      "4         rock\n",
      "         ...  \n",
      "46642         \n",
      "46643         \n",
      "46644         \n",
      "46645         \n",
      "46646         \n",
      "Name: genre, Length: 46647, dtype: object\n"
     ]
    }
   ],
   "source": [
    "index_list = [*range(0, len(node_subjects), 1)] \n",
    "node_subjects= pd.Series(list(node_subjects.values())[0:len(node_subjects)], index = index_list, name= \"genre\")\n",
    "print(node_subjects)"
   ]
  },
  {
   "cell_type": "code",
   "execution_count": 8,
   "metadata": {
    "colab": {
     "base_uri": "https://localhost:8080/",
     "height": 434
    },
    "id": "242QyEQDHKsk",
    "outputId": "edc93aa0-9468-4077-dbd4-1d5eba1335e8"
   },
   "outputs": [
    {
     "name": "stdout",
     "output_type": "stream",
     "text": [
      "46647\n"
     ]
    },
    {
     "data": {
      "text/html": [
       "<div>\n",
       "<style scoped>\n",
       "    .dataframe tbody tr th:only-of-type {\n",
       "        vertical-align: middle;\n",
       "    }\n",
       "\n",
       "    .dataframe tbody tr th {\n",
       "        vertical-align: top;\n",
       "    }\n",
       "\n",
       "    .dataframe thead th {\n",
       "        text-align: right;\n",
       "    }\n",
       "</style>\n",
       "<table border=\"1\" class=\"dataframe\">\n",
       "  <thead>\n",
       "    <tr style=\"text-align: right;\">\n",
       "      <th></th>\n",
       "      <th>index</th>\n",
       "      <th>value</th>\n",
       "    </tr>\n",
       "  </thead>\n",
       "  <tbody>\n",
       "    <tr>\n",
       "      <th>0</th>\n",
       "      <td>0</td>\n",
       "      <td>[1.0, 0.0]</td>\n",
       "    </tr>\n",
       "    <tr>\n",
       "      <th>1</th>\n",
       "      <td>1</td>\n",
       "      <td>[1.0, 0.0]</td>\n",
       "    </tr>\n",
       "    <tr>\n",
       "      <th>2</th>\n",
       "      <td>2</td>\n",
       "      <td>[1.0, 0.0]</td>\n",
       "    </tr>\n",
       "    <tr>\n",
       "      <th>3</th>\n",
       "      <td>3</td>\n",
       "      <td>[1.0, 0.0]</td>\n",
       "    </tr>\n",
       "    <tr>\n",
       "      <th>4</th>\n",
       "      <td>4</td>\n",
       "      <td>[1.0, 0.0]</td>\n",
       "    </tr>\n",
       "    <tr>\n",
       "      <th>...</th>\n",
       "      <td>...</td>\n",
       "      <td>...</td>\n",
       "    </tr>\n",
       "    <tr>\n",
       "      <th>46642</th>\n",
       "      <td>46642</td>\n",
       "      <td>[0.0, 1.0]</td>\n",
       "    </tr>\n",
       "    <tr>\n",
       "      <th>46643</th>\n",
       "      <td>46643</td>\n",
       "      <td>[0.0, 1.0]</td>\n",
       "    </tr>\n",
       "    <tr>\n",
       "      <th>46644</th>\n",
       "      <td>46644</td>\n",
       "      <td>[0.0, 1.0]</td>\n",
       "    </tr>\n",
       "    <tr>\n",
       "      <th>46645</th>\n",
       "      <td>46645</td>\n",
       "      <td>[0.0, 1.0]</td>\n",
       "    </tr>\n",
       "    <tr>\n",
       "      <th>46646</th>\n",
       "      <td>46646</td>\n",
       "      <td>[0.0, 1.0]</td>\n",
       "    </tr>\n",
       "  </tbody>\n",
       "</table>\n",
       "<p>46647 rows × 2 columns</p>\n",
       "</div>"
      ],
      "text/plain": [
       "       index       value\n",
       "0          0  [1.0, 0.0]\n",
       "1          1  [1.0, 0.0]\n",
       "2          2  [1.0, 0.0]\n",
       "3          3  [1.0, 0.0]\n",
       "4          4  [1.0, 0.0]\n",
       "...      ...         ...\n",
       "46642  46642  [0.0, 1.0]\n",
       "46643  46643  [0.0, 1.0]\n",
       "46644  46644  [0.0, 1.0]\n",
       "46645  46645  [0.0, 1.0]\n",
       "46646  46646  [0.0, 1.0]\n",
       "\n",
       "[46647 rows x 2 columns]"
      ]
     },
     "execution_count": 8,
     "metadata": {},
     "output_type": "execute_result"
    }
   ],
   "source": [
    "print(counter)\n",
    "matrix=[]\n",
    "for i in range(counter):\n",
    "    vecForEach = np.zeros(2)\n",
    "    if i > len(list_of_ids):\n",
    "        vecForEach[1] = 1 #represents its a song node\n",
    "    else:\n",
    "        vecForEach[0] = 1 #represents its a word node\n",
    "    matrix.append(vecForEach)\n",
    "\n",
    "index = [*range(0,counter,1)]\n",
    "list_of_tuples = list(zip(index, matrix))\n",
    "df = pd.DataFrame(list_of_tuples,  columns = ['index', 'value'])   \n",
    "df"
   ]
  },
  {
   "cell_type": "code",
   "execution_count": 9,
   "metadata": {
    "id": "9W98JA-CHTdV"
   },
   "outputs": [],
   "source": [
    "i=0\n",
    "for u,outer_d in graph.nodes(data=True):\n",
    "    #print(type(df.iloc[i]['value']))\n",
    "    outer_d['val'] = df.iloc[i]['value']\n",
    "    i+=1"
   ]
  },
  {
   "cell_type": "code",
   "execution_count": 10,
   "metadata": {
    "colab": {
     "base_uri": "https://localhost:8080/",
     "height": 69
    },
    "id": "i7zBoz14HTwB",
    "outputId": "c4815e16-f880-451f-d2c9-6995c64bbd45"
   },
   "outputs": [
    {
     "data": {
      "text/plain": [
       "'StellarGraph: Undirected multigraph\\n Nodes: 46647, Edges: 8590568\\n\\n Node types:\\n  default: [46647]\\n    Features: float32 vector, length 2\\n    Edge types: default-default->default\\n\\n Edge types:\\n    default-default->default: [8590568]\\n        Weights: all 1 (default)\\n        Features: none'"
      ]
     },
     "execution_count": 10,
     "metadata": {},
     "output_type": "execute_result"
    }
   ],
   "source": [
    "G = sg.StellarGraph.from_networkx(graph,node_features=\"val\")\n",
    "G.info()"
   ]
  },
  {
   "cell_type": "code",
   "execution_count": 11,
   "metadata": {
    "colab": {
     "base_uri": "https://localhost:8080/"
    },
    "id": "Wf9DI-adHTzF",
    "outputId": "4cecd551-45a0-4609-9f91-add18fac05a9"
   },
   "outputs": [
    {
     "data": {
      "text/plain": [
       "Index(['0', '1', '2', '3', '4', '5', '6', '7', '8', '9',\n",
       "       ...\n",
       "       '46637', '46638', '46639', '46640', '46641', '46642', '46643', '46644',\n",
       "       '46645', '46646'],\n",
       "      dtype='object', length=46647)"
      ]
     },
     "execution_count": 11,
     "metadata": {},
     "output_type": "execute_result"
    }
   ],
   "source": [
    "G.nodes()[0:len(node_subjects)]"
   ]
  },
  {
   "cell_type": "code",
   "execution_count": 12,
   "metadata": {
    "colab": {
     "background_save": true,
     "base_uri": "https://localhost:8080/"
    },
    "id": "5xs7htucHT1r",
    "outputId": "fbb160d6-eccc-4c8d-fee3-53db237bb298"
   },
   "outputs": [
    {
     "name": "stdout",
     "output_type": "stream",
     "text": [
      "Number of random walks: 177770\n"
     ]
    }
   ],
   "source": [
    "rw = BiasedRandomWalk(G)\n",
    "\n",
    "walks = rw.run(\n",
    "    nodes=list(G.nodes()[0:len(list_of_ids)]),  # root nodes\n",
    "    length=100,  # maximum length of a random walk\n",
    "    n=10,  # number of random walks per root node\n",
    "    p=0.5,  # Defines (unormalised) probability, 1/p, of returning to source node\n",
    "    q=2.0,  # Defines (unormalised) probability, 1/q, for moving away from source node\n",
    ")\n",
    "print(\"Number of random walks: {}\".format(len(walks)))"
   ]
  },
  {
   "cell_type": "code",
   "execution_count": 13,
   "metadata": {
    "colab": {
     "background_save": true
    },
    "id": "eaaWd0jk5TjL"
   },
   "outputs": [],
   "source": [
    "import json\n",
    "with open(\"walks.txt\", \"w\") as f:\n",
    "  json.dump(walks, f)"
   ]
  },
  {
   "cell_type": "code",
   "execution_count": 17,
   "metadata": {
    "colab": {
     "background_save": true
    },
    "id": "0RWkNwb_HT4J"
   },
   "outputs": [],
   "source": [
    "from gensim.models import Word2Vec\n",
    "\n",
    "str_walks = [[str(n) for n in walk] for walk in walks]\n",
    "model = Word2Vec(str_walks, vector_size=128, window=5, min_count=0, sg=1, workers=2, epochs=1)"
   ]
  },
  {
   "cell_type": "code",
   "execution_count": null,
   "metadata": {
    "id": "Si1_EIGSHKvo"
   },
   "outputs": [],
   "source": [
    "# The embedding vectors can be retrieved from model.wv using the node ID as key.\n",
    "# model.wv[\"19231\"].shape"
   ]
  },
  {
   "cell_type": "code",
   "execution_count": 19,
   "metadata": {
    "colab": {
     "background_save": true
    },
    "id": "Js5PvCWRHgMz"
   },
   "outputs": [],
   "source": [
    "# Retrieve node embeddings and corresponding subjects\n",
    "node_ids = model.wv.index_to_key  # list of node IDs\n",
    "node_embeddings = (\n",
    "    model.wv.vectors\n",
    ")  # numpy.ndarray of size number of nodes times embeddings dimensionality\n",
    "node_targets = node_subjects[[int(node_id) for node_id in node_ids]]"
   ]
  },
  {
   "cell_type": "code",
   "execution_count": 20,
   "metadata": {
    "colab": {
     "background_save": true
    },
    "id": "soJXbVQuHgQs"
   },
   "outputs": [],
   "source": [
    "# Apply t-SNE transformation on node embeddings\n",
    "tsne = TSNE(n_components=2)\n",
    "node_embeddings_2d = tsne.fit_transform(node_embeddings[0:len(list_of_ids)])"
   ]
  },
  {
   "cell_type": "code",
   "execution_count": 1,
   "metadata": {
    "colab": {
     "background_save": true
    },
    "id": "5_rd-moIHgUA",
    "outputId": "418d7f5b-86ad-4604-ae70-7651b34beb24"
   },
   "outputs": [
    {
     "ename": "NameError",
     "evalue": "name 'np' is not defined",
     "output_type": "error",
     "traceback": [
      "\u001b[1;31m---------------------------------------------------------------------------\u001b[0m",
      "\u001b[1;31mNameError\u001b[0m                                 Traceback (most recent call last)",
      "\u001b[1;32m<ipython-input-1-6f2b725b4808>\u001b[0m in \u001b[0;36m<module>\u001b[1;34m\u001b[0m\n\u001b[0;32m      1\u001b[0m \u001b[1;31m# draw the points\u001b[0m\u001b[1;33m\u001b[0m\u001b[1;33m\u001b[0m\u001b[1;33m\u001b[0m\u001b[0m\n\u001b[0;32m      2\u001b[0m \u001b[0malpha\u001b[0m \u001b[1;33m=\u001b[0m \u001b[1;36m0.7\u001b[0m\u001b[1;33m\u001b[0m\u001b[1;33m\u001b[0m\u001b[0m\n\u001b[1;32m----> 3\u001b[1;33m \u001b[0mlabel_map\u001b[0m \u001b[1;33m=\u001b[0m \u001b[1;33m{\u001b[0m\u001b[0ml\u001b[0m\u001b[1;33m:\u001b[0m \u001b[0mi\u001b[0m \u001b[1;32mfor\u001b[0m \u001b[0mi\u001b[0m\u001b[1;33m,\u001b[0m \u001b[0ml\u001b[0m \u001b[1;32min\u001b[0m \u001b[0menumerate\u001b[0m\u001b[1;33m(\u001b[0m\u001b[0mnp\u001b[0m\u001b[1;33m.\u001b[0m\u001b[0munique\u001b[0m\u001b[1;33m(\u001b[0m\u001b[0mnode_targets\u001b[0m\u001b[1;33m[\u001b[0m\u001b[1;36m0\u001b[0m\u001b[1;33m:\u001b[0m\u001b[0mlen\u001b[0m\u001b[1;33m(\u001b[0m\u001b[0mlist_of_ids\u001b[0m\u001b[1;33m)\u001b[0m\u001b[1;33m]\u001b[0m\u001b[1;33m)\u001b[0m\u001b[1;33m)\u001b[0m\u001b[1;33m}\u001b[0m\u001b[1;33m\u001b[0m\u001b[1;33m\u001b[0m\u001b[0m\n\u001b[0m\u001b[0;32m      4\u001b[0m \u001b[0mnode_colours\u001b[0m \u001b[1;33m=\u001b[0m \u001b[1;33m[\u001b[0m\u001b[0mlabel_map\u001b[0m\u001b[1;33m[\u001b[0m\u001b[0mtarget\u001b[0m\u001b[1;33m]\u001b[0m \u001b[1;32mfor\u001b[0m \u001b[0mtarget\u001b[0m \u001b[1;32min\u001b[0m \u001b[0mnode_targets\u001b[0m\u001b[1;33m[\u001b[0m\u001b[1;36m0\u001b[0m\u001b[1;33m:\u001b[0m\u001b[0mlen\u001b[0m\u001b[1;33m(\u001b[0m\u001b[0mlist_of_ids\u001b[0m\u001b[1;33m)\u001b[0m\u001b[1;33m]\u001b[0m\u001b[1;33m]\u001b[0m\u001b[1;33m\u001b[0m\u001b[1;33m\u001b[0m\u001b[0m\n\u001b[0;32m      5\u001b[0m \u001b[1;33m\u001b[0m\u001b[0m\n",
      "\u001b[1;31mNameError\u001b[0m: name 'np' is not defined"
     ]
    }
   ],
   "source": [
    "# draw the points\n",
    "alpha = 0.7\n",
    "label_map = {l: i for i, l in enumerate(np.unique(node_targets[0:len(list_of_ids)]))}\n",
    "node_colours = [label_map[target] for target in node_targets[0:len(list_of_ids)]]\n",
    "\n",
    "plt.figure(figsize=(10, 8))\n",
    "plt.scatter(\n",
    "    node_embeddings_2d[:, 0],\n",
    "    node_embeddings_2d[:, 1],\n",
    "    c=node_colours,\n",
    "    cmap=\"jet\",\n",
    "    alpha=alpha,\n",
    ")"
   ]
  },
  {
   "cell_type": "code",
   "execution_count": 22,
   "metadata": {
    "colab": {
     "background_save": true
    },
    "id": "HEGazXvaIouq"
   },
   "outputs": [],
   "source": [
    "# X will hold the 128-dimensional input features\n",
    "X = node_embeddings[0:len(list_of_ids)]\n",
    "# y holds the corresponding target values\n",
    "y = np.array(node_targets[0:len(list_of_ids)])"
   ]
  },
  {
   "cell_type": "code",
   "execution_count": 23,
   "metadata": {
    "colab": {
     "background_save": true
    },
    "id": "-77w0wGiX_tl",
    "outputId": "a35e884c-676b-4fca-f400-021ca31267f1"
   },
   "outputs": [
    {
     "data": {
      "text/plain": [
       "46646     \n",
       "17803     \n",
       "17786     \n",
       "17872     \n",
       "17992     \n",
       "        ..\n",
       "43971     \n",
       "45866     \n",
       "45982     \n",
       "46231     \n",
       "34575     \n",
       "Name: genre, Length: 46645, dtype: object"
      ]
     },
     "execution_count": 23,
     "metadata": {},
     "output_type": "execute_result"
    }
   ],
   "source": [
    "node_targets"
   ]
  },
  {
   "cell_type": "code",
   "execution_count": 24,
   "metadata": {
    "colab": {
     "background_save": true
    },
    "id": "fySHs-71PsZ0",
    "outputId": "dbcc98b3-d83a-4a25-ac35-fdd50e2c1914"
   },
   "outputs": [
    {
     "data": {
      "text/plain": [
       "array([[-0.32766342,  0.2941799 , -0.3474949 , ..., -0.82027346,\n",
       "         0.24436763, -0.09175396],\n",
       "       [-0.05642795, -0.30560762,  0.10986784, ..., -0.3039986 ,\n",
       "        -0.17142121, -0.13247998],\n",
       "       [ 0.00373635, -0.06285318, -0.00417267, ..., -0.00314891,\n",
       "         0.04443538, -0.02185215],\n",
       "       ...,\n",
       "       [-0.02786947, -0.1008638 ,  0.01538149, ..., -0.06193265,\n",
       "        -0.05278542,  0.01718287],\n",
       "       [-0.04645026, -0.08724491, -0.01361432, ..., -0.03430731,\n",
       "        -0.04251448,  0.03825265],\n",
       "       [-0.01508978, -0.0516769 , -0.00201331, ..., -0.03399877,\n",
       "        -0.03016051,  0.02054489]], dtype=float32)"
      ]
     },
     "execution_count": 24,
     "metadata": {},
     "output_type": "execute_result"
    }
   ],
   "source": [
    "node_embeddings"
   ]
  },
  {
   "cell_type": "code",
   "execution_count": 25,
   "metadata": {
    "colab": {
     "background_save": true
    },
    "id": "XX5wwDKyIozM"
   },
   "outputs": [],
   "source": [
    "X_train, X_test, y_train, y_test = train_test_split(X, y, train_size=0.8, test_size=None)"
   ]
  },
  {
   "cell_type": "code",
   "execution_count": 26,
   "metadata": {
    "colab": {
     "background_save": true
    },
    "id": "UYVlLzHoIsin",
    "outputId": "6d4ef2d2-9a3e-41dd-df22-f44482d46cf1"
   },
   "outputs": [
    {
     "name": "stdout",
     "output_type": "stream",
     "text": [
      "Array shapes:\n",
      " X_train = (14221, 128)\n",
      " y_train = (14221,)\n",
      " X_test = (3556, 128)\n",
      " y_test = (3556,)\n"
     ]
    }
   ],
   "source": [
    "print(\n",
    "    \"Array shapes:\\n X_train = {}\\n y_train = {}\\n X_test = {}\\n y_test = {}\".format(\n",
    "        X_train.shape, y_train.shape, X_test.shape, y_test.shape\n",
    "    )\n",
    ")"
   ]
  },
  {
   "cell_type": "code",
   "execution_count": 27,
   "metadata": {
    "id": "Yk6ghPx8IslT"
   },
   "outputs": [
    {
     "name": "stderr",
     "output_type": "stream",
     "text": [
      "C:\\Users\\ivang\\anaconda3\\lib\\site-packages\\sklearn\\linear_model\\_logistic.py:763: ConvergenceWarning: lbfgs failed to converge (status=1):\n",
      "STOP: TOTAL NO. of ITERATIONS REACHED LIMIT.\n",
      "\n",
      "Increase the number of iterations (max_iter) or scale the data as shown in:\n",
      "    https://scikit-learn.org/stable/modules/preprocessing.html\n",
      "Please also refer to the documentation for alternative solver options:\n",
      "    https://scikit-learn.org/stable/modules/linear_model.html#logistic-regression\n",
      "  n_iter_i = _check_optimize_result(\n",
      "C:\\Users\\ivang\\anaconda3\\lib\\site-packages\\sklearn\\linear_model\\_logistic.py:763: ConvergenceWarning: lbfgs failed to converge (status=1):\n",
      "STOP: TOTAL NO. of ITERATIONS REACHED LIMIT.\n",
      "\n",
      "Increase the number of iterations (max_iter) or scale the data as shown in:\n",
      "    https://scikit-learn.org/stable/modules/preprocessing.html\n",
      "Please also refer to the documentation for alternative solver options:\n",
      "    https://scikit-learn.org/stable/modules/linear_model.html#logistic-regression\n",
      "  n_iter_i = _check_optimize_result(\n"
     ]
    },
    {
     "data": {
      "text/plain": [
       "LogisticRegressionCV(cv=10, max_iter=300, multi_class='ovr', scoring='accuracy',\n",
       "                     verbose=False)"
      ]
     },
     "execution_count": 27,
     "metadata": {},
     "output_type": "execute_result"
    }
   ],
   "source": [
    "clf = LogisticRegressionCV(\n",
    "    Cs=10, cv=10, scoring=\"accuracy\", verbose=False, multi_class=\"ovr\", max_iter=300\n",
    ")\n",
    "clf.fit(X_train, y_train)"
   ]
  },
  {
   "cell_type": "code",
   "execution_count": 28,
   "metadata": {
    "colab": {
     "background_save": true
    },
    "id": "LZSzA-dqIsof"
   },
   "outputs": [],
   "source": [
    "y_pred = clf.predict(X_test)"
   ]
  },
  {
   "cell_type": "code",
   "execution_count": 29,
   "metadata": {
    "colab": {
     "background_save": true
    },
    "id": "qH81jeUSPewP",
    "outputId": "e7ce125b-a424-44a4-d51f-1b4d94eeec50"
   },
   "outputs": [
    {
     "data": {
      "text/plain": [
       "array(['reggae', '', 'rock', ..., 'pop', 'blues', 'pop'], dtype=object)"
      ]
     },
     "execution_count": 29,
     "metadata": {},
     "output_type": "execute_result"
    }
   ],
   "source": [
    "y_test"
   ]
  },
  {
   "cell_type": "code",
   "execution_count": 30,
   "metadata": {
    "colab": {
     "background_save": true
    },
    "id": "nvRQEgpYPgAv",
    "outputId": "2d17ab06-11a1-429e-e6f1-340ccd87b18b"
   },
   "outputs": [
    {
     "data": {
      "text/plain": [
       "array(['reggae', '', 'rock', ..., 'pop', 'blues', 'pop'], dtype=object)"
      ]
     },
     "execution_count": 30,
     "metadata": {},
     "output_type": "execute_result"
    }
   ],
   "source": [
    "y_pred"
   ]
  },
  {
   "cell_type": "code",
   "execution_count": 31,
   "metadata": {
    "colab": {
     "base_uri": "https://localhost:8080/",
     "height": 162
    },
    "id": "NtDjYpd6IsrC",
    "outputId": "0e2191fe-879c-4c11-dcfa-2843bcf95b05"
   },
   "outputs": [
    {
     "data": {
      "text/plain": [
       "0.7277840269966255"
      ]
     },
     "execution_count": 31,
     "metadata": {},
     "output_type": "execute_result"
    }
   ],
   "source": [
    "accuracy_score(y_test, y_pred)"
   ]
  },
  {
   "cell_type": "code",
   "execution_count": null,
   "metadata": {
    "id": "qTKRVFNHVnOs"
   },
   "outputs": [],
   "source": []
  }
 ],
 "metadata": {
  "colab": {
   "collapsed_sections": [],
   "name": "node2vec_lyrics.ipynb",
   "provenance": []
  },
  "kernelspec": {
   "display_name": "Python 3",
   "language": "python",
   "name": "python3"
  },
  "language_info": {
   "codemirror_mode": {
    "name": "ipython",
    "version": 3
   },
   "file_extension": ".py",
   "mimetype": "text/x-python",
   "name": "python",
   "nbconvert_exporter": "python",
   "pygments_lexer": "ipython3",
   "version": "3.8.8"
  }
 },
 "nbformat": 4,
 "nbformat_minor": 1
}
